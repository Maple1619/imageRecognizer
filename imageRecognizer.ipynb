{
 "cells": [
  {
   "cell_type": "code",
   "execution_count": 1,
   "id": "5e433a29",
   "metadata": {},
   "outputs": [
    {
     "data": {
      "text/plain": [
       "32"
      ]
     },
     "execution_count": 1,
     "metadata": {},
     "output_type": "execute_result"
    }
   ],
   "source": [
    "import cv2\n",
    "import numpy as np\n",
    "\n",
    "image = cv2.imread('images/cap2.png', cv2.IMREAD_COLOR)\n",
    "original = image.copy()\n",
    "cv2.imshow('original',original)\n",
    "cv2.imwrite('blogIMG/originIMG.jpg',image)\n",
    "cv2.waitKey()"
   ]
  },
  {
   "cell_type": "code",
   "execution_count": 2,
   "id": "df064b72",
   "metadata": {},
   "outputs": [
    {
     "data": {
      "text/plain": [
       "32"
      ]
     },
     "execution_count": 2,
     "metadata": {},
     "output_type": "execute_result"
    }
   ],
   "source": [
    "gray = cv2.cvtColor(image, cv2.COLOR_BGR2GRAY)\n",
    "cv2.imshow('gray',gray)\n",
    "cv2.imwrite('blogIMG/grayIMG.jpg',gray)\n",
    "cv2.waitKey()"
   ]
  },
  {
   "cell_type": "code",
   "execution_count": 3,
   "id": "d34be3dd",
   "metadata": {},
   "outputs": [
    {
     "data": {
      "text/plain": [
       "32"
      ]
     },
     "execution_count": 3,
     "metadata": {},
     "output_type": "execute_result"
    }
   ],
   "source": [
    "ksize=(3,3)\n",
    "blur = cv2.GaussianBlur(gray, ksize=ksize, sigmaX=0)\n",
    "cv2.imshow('blurIMG', blur)\n",
    "cv2.imwrite('blogIMG/blurIMG.jpg',blur)\n",
    "cv2.waitKey()"
   ]
  },
  {
   "cell_type": "code",
   "execution_count": 4,
   "id": "7737e8bc",
   "metadata": {},
   "outputs": [
    {
     "data": {
      "text/plain": [
       "32"
      ]
     },
     "execution_count": 4,
     "metadata": {},
     "output_type": "execute_result"
    }
   ],
   "source": [
    "ret, thresh = cv2.threshold(blur, 0,255,cv2.THRESH_BINARY+cv2.THRESH_OTSU)\n",
    "s = f'{ksize}_THR'\n",
    "cv2.imshow(s, thresh)\n",
    "cv2.imwrite('blogIMG/threshIMG.jpg', thresh)\n",
    "cv2.waitKey()"
   ]
  },
  {
   "cell_type": "code",
   "execution_count": 5,
   "id": "dc75be33",
   "metadata": {},
   "outputs": [
    {
     "data": {
      "text/plain": [
       "32"
      ]
     },
     "execution_count": 5,
     "metadata": {},
     "output_type": "execute_result"
    }
   ],
   "source": [
    "retBi, threshBi = cv2.threshold(blur,127,255,cv2.THRESH_BINARY)\n",
    "s = f'{ksize}_BinaryTHR'\n",
    "cv2.imshow(s, threshBi)\n",
    "cv2.imwrite('blogIMG/threshBinaryIMG.jpg', thresh)\n",
    "cv2.waitKey()"
   ]
  },
  {
   "cell_type": "code",
   "execution_count": 6,
   "id": "f6ed56db",
   "metadata": {},
   "outputs": [
    {
     "data": {
      "text/plain": [
       "32"
      ]
     },
     "execution_count": 6,
     "metadata": {},
     "output_type": "execute_result"
    }
   ],
   "source": [
    "retINV, threshINV = cv2.threshold(blur, 0,255,cv2.THRESH_BINARY_INV+cv2.THRESH_OTSU)\n",
    "s = f'{ksize}_THRINV'\n",
    "cv2.imshow(s, threshINV)\n",
    "cv2.imwrite('blogIMG/threshINV.jpg',threshINV)\n",
    "cv2.waitKey()"
   ]
  },
  {
   "cell_type": "code",
   "execution_count": 7,
   "id": "d7009b32",
   "metadata": {},
   "outputs": [
    {
     "data": {
      "text/plain": [
       "32"
      ]
     },
     "execution_count": 7,
     "metadata": {},
     "output_type": "execute_result"
    }
   ],
   "source": [
    "kernel = cv2.getStructuringElement(cv2.MORPH_RECT, (3,3))\n",
    "test = cv2.dilate(threshINV, kernel)\n",
    "cv2.imshow('(3,3)Dilation',test)\n",
    "cv2.imwrite('blogIMG/(3,3)delation.jpg',test)\n",
    "cv2.waitKey()"
   ]
  },
  {
   "cell_type": "code",
   "execution_count": 8,
   "id": "02326f89",
   "metadata": {},
   "outputs": [
    {
     "data": {
      "text/plain": [
       "32"
      ]
     },
     "execution_count": 8,
     "metadata": {},
     "output_type": "execute_result"
    }
   ],
   "source": [
    "kernel = cv2.getStructuringElement(cv2.MORPH_RECT, (1,50))\n",
    "test_verti = cv2.dilate(test, kernel)\n",
    "cv2.imshow('(3,3)_(1,50)Dilation',test_verti)\n",
    "cv2.imwrite('blogIMG/(3,3)dilation_(1,50)delation.jpg',test_verti)\n",
    "cv2.waitKey()"
   ]
  },
  {
   "cell_type": "code",
   "execution_count": 9,
   "id": "57a68025",
   "metadata": {},
   "outputs": [],
   "source": [
    "kernel = cv2.getStructuringElement(cv2.MORPH_RECT, (1,20))\n",
    "test = cv2.dilate(threshINV, kernel)\n",
    "cv2.imshow('TEST',test)\n",
    "# cv2.imwrite('blogIMG/(3,3)delation.jpg',test)\n",
    "cv2.waitKey()\n",
    "cv2.destroyAllWindows()"
   ]
  },
  {
   "cell_type": "code",
   "execution_count": 10,
   "id": "ae6a17fa",
   "metadata": {},
   "outputs": [
    {
     "data": {
      "text/plain": [
       "32"
      ]
     },
     "execution_count": 10,
     "metadata": {},
     "output_type": "execute_result"
    }
   ],
   "source": [
    "vertikernel = cv2.getStructuringElement(cv2.MORPH_RECT, (1,50))\n",
    "openedINV = cv2.morphologyEx(threshINV, cv2.MORPH_OPEN, vertikernel)\n",
    "cv2.imshow('openingVerti', openedINV)\n",
    "cv2.imwrite('blogIMG/openingVerti.jpg',openedINV)\n",
    "cv2.waitKey()"
   ]
  },
  {
   "cell_type": "code",
   "execution_count": 11,
   "id": "8ad7715a",
   "metadata": {},
   "outputs": [],
   "source": [
    "horikernel = cv2.getStructuringElement(cv2.MORPH_RECT, (50,1))\n",
    "openedINV = cv2.morphologyEx(openedINV, cv2.MORPH_OPEN, horikernel)\n",
    "cv2.imshow('openingHori', openedINV)\n",
    "cv2.imwrite('blogIMG/openingHori.jpg',openedINV)\n",
    "cv2.waitKey()\n",
    "cv2.destroyAllWindows()"
   ]
  },
  {
   "cell_type": "code",
   "execution_count": 23,
   "id": "af8a6521",
   "metadata": {},
   "outputs": [
    {
     "ename": "TypeError",
     "evalue": "'int' object is not iterable",
     "output_type": "error",
     "traceback": [
      "\u001b[1;31m---------------------------------------------------------------------------\u001b[0m",
      "\u001b[1;31mTypeError\u001b[0m                                 Traceback (most recent call last)",
      "\u001b[1;32m~\\AppData\\Local\\Temp\\ipykernel_30516\\823736916.py\u001b[0m in \u001b[0;36m<module>\u001b[1;34m\u001b[0m\n\u001b[0;32m     12\u001b[0m \u001b[1;31m# cv2.destroyAllWindows()\u001b[0m\u001b[1;33m\u001b[0m\u001b[1;33m\u001b[0m\u001b[0m\n\u001b[0;32m     13\u001b[0m \u001b[0mmode\u001b[0m \u001b[1;33m=\u001b[0m \u001b[0mcv2\u001b[0m\u001b[1;33m.\u001b[0m\u001b[0mRETR_EXTERNAL\u001b[0m\u001b[1;33m\u001b[0m\u001b[1;33m\u001b[0m\u001b[0m\n\u001b[1;32m---> 14\u001b[1;33m \u001b[1;32mfor\u001b[0m \u001b[0mmethod\u001b[0m \u001b[1;32min\u001b[0m \u001b[0mmethods\u001b[0m\u001b[1;33m[\u001b[0m\u001b[1;36m0\u001b[0m\u001b[1;33m]\u001b[0m\u001b[1;33m:\u001b[0m\u001b[1;33m\u001b[0m\u001b[1;33m\u001b[0m\u001b[0m\n\u001b[0m\u001b[0;32m     15\u001b[0m     \u001b[0mcontours\u001b[0m\u001b[1;33m,\u001b[0m \u001b[0mhierarchy\u001b[0m \u001b[1;33m=\u001b[0m \u001b[0mcv2\u001b[0m\u001b[1;33m.\u001b[0m\u001b[0mfindContours\u001b[0m\u001b[1;33m(\u001b[0m\u001b[0mopenedINV\u001b[0m\u001b[1;33m.\u001b[0m\u001b[0mcopy\u001b[0m\u001b[1;33m(\u001b[0m\u001b[1;33m)\u001b[0m\u001b[1;33m,\u001b[0m \u001b[0mmode\u001b[0m\u001b[1;33m,\u001b[0m \u001b[0mmethod\u001b[0m\u001b[1;33m)\u001b[0m\u001b[1;33m\u001b[0m\u001b[1;33m\u001b[0m\u001b[0m\n\u001b[0;32m     16\u001b[0m     \u001b[0mcontours_image\u001b[0m \u001b[1;33m=\u001b[0m \u001b[0mcv2\u001b[0m\u001b[1;33m.\u001b[0m\u001b[0mdrawContours\u001b[0m\u001b[1;33m(\u001b[0m\u001b[0moriginal\u001b[0m\u001b[1;33m.\u001b[0m\u001b[0mcopy\u001b[0m\u001b[1;33m(\u001b[0m\u001b[1;33m)\u001b[0m\u001b[1;33m,\u001b[0m \u001b[0mcontours\u001b[0m\u001b[1;33m,\u001b[0m \u001b[1;33m-\u001b[0m\u001b[1;36m1\u001b[0m\u001b[1;33m,\u001b[0m \u001b[1;33m(\u001b[0m\u001b[1;36m0\u001b[0m\u001b[1;33m,\u001b[0m\u001b[1;36m255\u001b[0m\u001b[1;33m,\u001b[0m\u001b[1;36m0\u001b[0m\u001b[1;33m)\u001b[0m\u001b[1;33m,\u001b[0m \u001b[1;36m3\u001b[0m\u001b[1;33m)\u001b[0m\u001b[1;33m\u001b[0m\u001b[1;33m\u001b[0m\u001b[0m\n",
      "\u001b[1;31mTypeError\u001b[0m: 'int' object is not iterable"
     ]
    }
   ],
   "source": [
    "# modes = [cv2.RETR_EXTERNAL, cv2.RETR_LIST, cv2.RETR_CCOMP, cv2.RETR_TREE]\n",
    "methods = [cv2.CHAIN_APPROX_NONE, cv2.CHAIN_APPROX_SIMPLE, \\\n",
    "           cv2.CHAIN_APPROX_TC89_L1, cv2.CHAIN_APPROX_TC89_KCOS]\n",
    "# for mode in modes:\n",
    "#     for method in methods:\n",
    "#         contours, hierarchy = cv2.findContours(openedINV.copy(), mode, method)\n",
    "#         contours_image = cv2.drawContours(original.copy(), contours, -1, (0,255,0), 3)\n",
    "#         name = f'blogIMG/CONTOUR_{method}_{mode}.jpg'\n",
    "#         cv2.imshow(name,contou rs_image)\n",
    "# #         cv2.imwrite(name, contours_image)\n",
    "#     cv2.waitKey()\n",
    "# cv2.destroyAllWindows()\n",
    "mode = cv2.RETR_EXTERNAL\n",
    "for method in methods:\n",
    "    contours, hierarchy = cv2.findContours(openedINV.copy(), mode, method)\n",
    "    contours_image = cv2.drawContours(original.copy(), contours, -1, (0,255,0), 3)\n",
    "    name = f'blogIMG/CONTOUR_{method}_{mode}.jpg'\n",
    "    cv2.imshow(name,contours_image)\n",
    "cv2.waitKey()\n",
    "cv2.destroyAllWindows()    "
   ]
  },
  {
   "cell_type": "code",
   "execution_count": 28,
   "id": "ada16ca1",
   "metadata": {},
   "outputs": [
    {
     "name": "stdout",
     "output_type": "stream",
     "text": [
      "['./images\\\\cap1.png', './images\\\\cap2.png', './images\\\\cap3.png', './images\\\\cap5.png', './images\\\\cap6.png', './images\\\\cap7.png', './images\\\\cap8.png', './images\\\\cap9.png']\n",
      "['cap1', 'cap2', 'cap3', 'cap5', 'cap6', 'cap7', 'cap8', 'cap9']\n",
      "cap1_contours.jpg\n",
      "cap2_contours.jpg\n",
      "cap3_contours.jpg\n",
      "cap5_contours.jpg\n",
      "cap6_contours.jpg\n",
      "cap7_contours.jpg\n",
      "cap8_contours.jpg\n",
      "cap9_contours.jpg\n"
     ]
    }
   ],
   "source": [
    "import os\n",
    "import re\n",
    "dirPath = './images'\n",
    "p = re.compile('cap\\d.png')\n",
    "imgPaths = []\n",
    "imgNames=[]\n",
    "for f in os.listdir(dirPath):\n",
    "    if p.match(f):\n",
    "        imgPaths.append(os.path.join(dirPath,f))\n",
    "        imgNames.append(f.rstrip('.png'))\n",
    "print(imgPaths)\n",
    "print(imgNames)\n",
    "for imgpath, imgname in zip(imgPaths, imgNames):\n",
    "    cmp_image = cv2.imread(imgpath, cv2.IMREAD_COLOR)\n",
    "    cmp_original = cmp_image.copy()\n",
    "\n",
    "    cmp_gray = cv2.cvtColor(cmp_image, cv2.COLOR_BGR2GRAY)\n",
    "    \n",
    "    ksize=(3,3)\n",
    "    cmp_blur = cv2.GaussianBlur(cmp_gray, ksize=ksize, sigmaX=0)\n",
    "    cmp_retINV, cmp_threshINV = cv2.threshold(cmp_blur, 0,255,cv2.THRESH_BINARY_INV+cv2.THRESH_OTSU)\n",
    "    # verti\n",
    "    cmp_openedINV = cv2.morphologyEx(cmp_threshINV, cv2.MORPH_OPEN, vertikernel)\n",
    "    # hori\n",
    "    cmp_openedINV = cv2.morphologyEx(cmp_openedINV, cv2.MORPH_OPEN, horikernel)\n",
    "    \n",
    "    \n",
    "    for method in methods[:1]:\n",
    "        \n",
    "        cmp_contours, cmp_hierarchy = cv2.findContours(cmp_openedINV.copy(), cv2.RETR_EXTERNAL, method)\n",
    "        cmp_contours_image = cv2.drawContours(cmp_original.copy(), cmp_contours, -1, (0,255,0), 3)\n",
    "        cv2.imshow(f'{imgname}_contours', cmp_contours_image)\n",
    "        s=f'{imgname}_contours.jpg'\n",
    "        print(s)\n",
    "        cv2.imwrite(f'images/{imgname}_contours.jpg',cmp_contours_image)\n",
    "        cv2.waitKey()\n",
    "cv2.destroyAllWindows()\n",
    "        "
   ]
  },
  {
   "cell_type": "code",
   "execution_count": 25,
   "id": "7931d50f",
   "metadata": {},
   "outputs": [],
   "source": [
    "cv2.destroyAllWindows()"
   ]
  },
  {
   "cell_type": "code",
   "execution_count": null,
   "id": "2eb27b43",
   "metadata": {},
   "outputs": [],
   "source": []
  }
 ],
 "metadata": {
  "kernelspec": {
   "display_name": "Python 3 (ipykernel)",
   "language": "python",
   "name": "python3"
  },
  "language_info": {
   "codemirror_mode": {
    "name": "ipython",
    "version": 3
   },
   "file_extension": ".py",
   "mimetype": "text/x-python",
   "name": "python",
   "nbconvert_exporter": "python",
   "pygments_lexer": "ipython3",
   "version": "3.9.13"
  }
 },
 "nbformat": 4,
 "nbformat_minor": 5
}
